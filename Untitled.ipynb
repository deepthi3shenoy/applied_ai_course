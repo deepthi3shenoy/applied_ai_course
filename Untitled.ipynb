{
 "cells": [
  {
   "cell_type": "code",
   "execution_count": 1,
   "metadata": {},
   "outputs": [
    {
     "name": "stdout",
     "output_type": "stream",
     "text": [
      "we are going to take the  0 th element of each row\n",
      "the row we are considering : [1, 2, 3, 4] and we are going to add 1 to a temporary list\n",
      "the row we are considering : [2, 3, 4, 5] and we are going to add 2 to a temporary list\n",
      "the row we are considering : [3, 4, 5, 6] and we are going to add 3 to a temporary list\n",
      "the  0 th column elements =  0 th elements in every row are = [1, 2, 3]\n",
      "==================================================\n",
      "we are going to take the  1 th element of each row\n",
      "the row we are considering : [1, 2, 3, 4] and we are going to add 2 to a temporary list\n",
      "the row we are considering : [2, 3, 4, 5] and we are going to add 3 to a temporary list\n",
      "the row we are considering : [3, 4, 5, 6] and we are going to add 4 to a temporary list\n",
      "the  1 th column elements =  1 th elements in every row are = [2, 3, 4]\n",
      "==================================================\n",
      "we are going to take the  2 th element of each row\n",
      "the row we are considering : [1, 2, 3, 4] and we are going to add 3 to a temporary list\n",
      "the row we are considering : [2, 3, 4, 5] and we are going to add 4 to a temporary list\n",
      "the row we are considering : [3, 4, 5, 6] and we are going to add 5 to a temporary list\n",
      "the  2 th column elements =  2 th elements in every row are = [3, 4, 5]\n",
      "==================================================\n",
      "we are going to take the  3 th element of each row\n",
      "the row we are considering : [1, 2, 3, 4] and we are going to add 4 to a temporary list\n",
      "the row we are considering : [2, 3, 4, 5] and we are going to add 5 to a temporary list\n",
      "the row we are considering : [3, 4, 5, 6] and we are going to add 6 to a temporary list\n",
      "the  3 th column elements =  3 th elements in every row are = [4, 5, 6]\n",
      "==================================================\n",
      "[[1, 2, 3], [2, 3, 4], [3, 4, 5], [4, 5, 6]]\n"
     ]
    }
   ],
   "source": [
    "matrix = [\n",
    "\n",
    "[1, 2, 3, 4],\n",
    "\n",
    "[2, 3, 4, 5],\n",
    "\n",
    "[3, 4, 5, 6]]\n",
    "\n",
    "transposed = []\n",
    "\n",
    "for i in range(4):\n",
    "\n",
    "\tprint(\"we are going to take the \",i,\"th element of each row\")\n",
    "\n",
    "\tlst = []\n",
    "\n",
    "\tfor row in matrix:\n",
    "\n",
    "\t\tprint(\"the row we are considering :\", row, \"and we are going to add\", row[i],\"to a temporary list\")\n",
    "\n",
    "\t\tlst.append(row[i])\n",
    "\n",
    "\tprint(\"the \",i,\"th column elements = \", i ,\"th elements in every row are =\", lst)\n",
    "\n",
    "\ttransposed.append(lst)\n",
    "\n",
    "\tprint(\"=\"*50)\n",
    "\n",
    "print(transposed)"
   ]
  },
  {
   "cell_type": "code",
   "execution_count": 4,
   "metadata": {},
   "outputs": [
    {
     "name": "stdout",
     "output_type": "stream",
     "text": [
      "1\n"
     ]
    }
   ],
   "source": [
    "matrix = [\n",
    "\n",
    "[1, 2, 3, 4],\n",
    "\n",
    "[2, 3, 4, 5],\n",
    "\n",
    "[3, 4, 5, 6]]\n",
    "\n",
    "print(matrix[0])"
   ]
  },
  {
   "cell_type": "code",
   "execution_count": null,
   "metadata": {},
   "outputs": [],
   "source": []
  }
 ],
 "metadata": {
  "kernelspec": {
   "display_name": "Python 3",
   "language": "python",
   "name": "python3"
  },
  "language_info": {
   "codemirror_mode": {
    "name": "ipython",
    "version": 3
   },
   "file_extension": ".py",
   "mimetype": "text/x-python",
   "name": "python",
   "nbconvert_exporter": "python",
   "pygments_lexer": "ipython3",
   "version": "3.6.5"
  }
 },
 "nbformat": 4,
 "nbformat_minor": 2
}
